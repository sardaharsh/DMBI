{
 "cells": [
  {
   "cell_type": "code",
   "execution_count": null,
   "metadata": {},
   "outputs": [],
   "source": [
    "import pandas as pd\n",
    "import matplotlib.pyplot as plt\n",
    "data = pd.read_csv(\"tips.csv\")\n",
    "plt.hist(data['total_bill'])\n",
    "plt.title(\"Histogram\")\n",
    "plt.ylabel('Tips')\n",
    "plt.show()\n"
   ]
  },
  {
   "cell_type": "code",
   "execution_count": null,
   "metadata": {},
   "outputs": [],
   "source": [
    "import pandas as pd\n",
    "import matplotlib.pyplot as plt\n",
    "data = pd.read_csv(\"tips.csv\")\n",
    "plt.bar(data['day'], data['tip'])\n",
    "plt.title(\"Bar Chart\")\n",
    "plt.xlabel('Day')\n",
    "plt.ylabel('Tip')\n",
    "plt.show()\n"
   ]
  },
  {
   "cell_type": "code",
   "execution_count": null,
   "metadata": {},
   "outputs": [],
   "source": [
    "import matplotlib.pyplot as plt\n",
    "import seaborn as sns\n",
    "import pandas as pd\n",
    "data = pd.read_csv(\"tips.csv\")\n",
    "plt.scatter(data['total_bill'], data['tip'], color='green', alpha=0.6)\n",
    "plt.set_title('Scatter Plot')\n",
    "plt.show()\n",
    "\n"
   ]
  },
  {
   "cell_type": "code",
   "execution_count": null,
   "metadata": {},
   "outputs": [],
   "source": [
    "import seaborn as sns\n",
    "import matplotlib.pyplot as plt\n",
    "import pandas as pd\n",
    "data =  pd.read_csv(\"tips.csv\")\n",
    "df = pd.DataFrame(data)\n",
    "sns.boxplot(x=\"day\", y=\"total_bill\", data =df)\n",
    "plt.show()\n"
   ]
  },
  {
   "cell_type": "code",
   "execution_count": null,
   "metadata": {},
   "outputs": [],
   "source": [
    "import numpy as np \n",
    "import pandas as pd\n",
    "\n",
    "np.random.seed(10) \n",
    "\n",
    "product_type = np.random.choice(a= [\"iPhone\",\"iPad\",\"iPod\",\"AVP\",\"AirPods\"], p = [0.05, 0.15 ,0.25, 0.05, 0.5], size=1000) \n",
    "month = np.random.choice(a= [\"January\",\"February\",\"March\"], p = [0.4, 0.2, 0.4], size=1000) \n",
    "\n",
    "product = pd.DataFrame({\"types\":product_type, \"months\":month})\n",
    "print(product) \n",
    "\n",
    "product_tab = pd.crosstab(product.types, product.months, margins = True)\n",
    "print(product_tab) \n",
    "product_tab.columns = [\"January\",\"February\",\"March\",\"row_totals\"] \n",
    "product_tab.index = [\"iPhone\",\"iPad\",\"iPod\",\"AVP\",\"AirPods\",\"col_totals\"] \n",
    "\n",
    "observed = product_tab.iloc[0:5,0:3] \n",
    "print(product_tab) \n",
    "print(observed)\n",
    "\n",
    "expected = np.outer(product_tab[\"row_totals\"][0:5], product_tab.loc[\"col_totals\"][0:3]) / 1000 \n",
    "expected = pd.DataFrame(expected) \n",
    "expected.columns = [\"Janurary\",\"Feburary\",\"March\"] \n",
    "expected.index = [\"iPhone\",\"iPad\",\"iPod\",\"AVP\",\"AirPods\"] \n",
    "print(expected)\n",
    "\n",
    "chi_squared_stat = (((observed-expected)**2)/expected).sum().sum()\n",
    "print(chi_squared_stat) \n",
    "critical_value= 15.50731 \n",
    "print(\"Critical value:\",critical_value) \n",
    "if (chi_squared_stat < critical_value): \n",
    "    print(\"Values are corelated \") \n",
    "else: \n",
    "    print(\"Values are not corelated\") \n"
   ]
  }
 ],
 "metadata": {
  "kernelspec": {
   "display_name": "Python 3",
   "language": "python",
   "name": "python3"
  },
  "language_info": {
   "codemirror_mode": {
    "name": "ipython",
    "version": 3
   },
   "file_extension": ".py",
   "mimetype": "text/x-python",
   "name": "python",
   "nbconvert_exporter": "python",
   "pygments_lexer": "ipython3",
   "version": "3.12.1"
  }
 },
 "nbformat": 4,
 "nbformat_minor": 2
}
