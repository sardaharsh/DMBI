{
 "cells": [
  {
   "cell_type": "code",
   "execution_count": 1,
   "metadata": {},
   "outputs": [
    {
     "name": "stdout",
     "output_type": "stream",
     "text": [
      "Accuracy on Training Set: 0.8420195439739414\n",
      "Accuracy on Testing Set: 0.7922077922077922\n",
      "Predicted Outcome for New Patient: 1\n"
     ]
    },
    {
     "name": "stderr",
     "output_type": "stream",
     "text": [
      "c:\\Users\\ADMIN\\AppData\\Local\\Programs\\Python\\Python312\\Lib\\site-packages\\sklearn\\base.py:493: UserWarning: X does not have valid feature names, but DecisionTreeClassifier was fitted with feature names\n",
      "  warnings.warn(\n"
     ]
    }
   ],
   "source": [
    "import pandas as pd\n",
    "from sklearn.model_selection import train_test_split\n",
    "from sklearn.tree import DecisionTreeClassifier\n",
    "from sklearn.metrics import accuracy_score\n",
    "\n",
    "# Read the data\n",
    "data = pd.read_csv('diabetes.csv')\n",
    "\n",
    "# Split data into features and target\n",
    "X = data.drop('Outcome', axis=1)  # Features\n",
    "y = data['Outcome']  # Target\n",
    "\n",
    "# Split data into training and testing sets\n",
    "X_train, X_test, y_train, y_test = train_test_split(X, y, test_size=0.2, random_state=42)\n",
    "\n",
    "# Initialize decision tree classifier with hyperparameters\n",
    "clf = DecisionTreeClassifier(max_depth=5, min_samples_split=2, min_samples_leaf=1)\n",
    "\n",
    "# Fit the classifier on the training data\n",
    "clf.fit(X_train, y_train)\n",
    "\n",
    "# Predictions for training set\n",
    "y_train_pred = clf.predict(X_train)\n",
    "\n",
    "# Predictions for testing set\n",
    "y_test_pred = clf.predict(X_test)\n",
    "\n",
    "# Calculate accuracy on training set\n",
    "accuracy_train = accuracy_score(y_train, y_train_pred)\n",
    "print(\"Accuracy on Training Set:\", accuracy_train)\n",
    "\n",
    "# Calculate accuracy on testing set\n",
    "accuracy_test = accuracy_score(y_test, y_test_pred)\n",
    "print(\"Accuracy on Testing Set:\", accuracy_test)\n",
    "\n",
    "# Test with a new patient\n",
    "# Example: [Pregnancies, Glucose, BloodPressure, SkinThickness, Insulin, BMI, DiabetesPedigreeFunction, Age]\n",
    "new_patient = [[6, 148, 72, 35, 0, 33.6, 0.627, 50]]  \n",
    "predicted_outcome = clf.predict(new_patient)\n",
    "print(\"Predicted Outcome for New Patient:\", predicted_outcome[0])\n"
   ]
  }
 ],
 "metadata": {
  "kernelspec": {
   "display_name": "Python 3",
   "language": "python",
   "name": "python3"
  },
  "language_info": {
   "codemirror_mode": {
    "name": "ipython",
    "version": 3
   },
   "file_extension": ".py",
   "mimetype": "text/x-python",
   "name": "python",
   "nbconvert_exporter": "python",
   "pygments_lexer": "ipython3",
   "version": "3.12.1"
  }
 },
 "nbformat": 4,
 "nbformat_minor": 2
}
